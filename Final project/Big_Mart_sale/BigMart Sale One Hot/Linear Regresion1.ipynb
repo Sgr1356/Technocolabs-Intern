{
 "cells": [
  {
   "cell_type": "code",
   "execution_count": 1,
   "metadata": {},
   "outputs": [],
   "source": [
    "import pandas as pd\n",
    "import numpy as np\n",
    "import matplotlib.pyplot as plt\n",
    "import seaborn as sns\n",
    "%matplotlib inline\n",
    "import warnings # Ignores any warning\n",
    "warnings.filterwarnings(\"ignore\")"
   ]
  },
  {
   "cell_type": "code",
   "execution_count": 2,
   "metadata": {},
   "outputs": [],
   "source": [
    "train_df = pd.read_csv('data/train_modified.csv')\n",
    "test_df = pd.read_csv('data/test_modified.csv')"
   ]
  },
  {
   "cell_type": "code",
   "execution_count": 3,
   "metadata": {},
   "outputs": [],
   "source": [
    "train_df_model = train_df.drop(['Item_Identifier', 'Outlet_Identifier', 'Item_Type','Outlet_Establishment_Year'], axis = 1)\n",
    "test_df_model = test_df.drop(['Item_Identifier', 'Outlet_Identifier', 'Item_Type','Outlet_Establishment_Year'], axis = 1)"
   ]
  },
  {
   "cell_type": "code",
   "execution_count": 4,
   "metadata": {},
   "outputs": [],
   "source": [
    "y =train_df_model['Item_Outlet_Sales']\n",
    "x = train_df_model.drop(['Item_Outlet_Sales'], axis = 1)\n",
    "x_test = test_df_model"
   ]
  },
  {
   "cell_type": "code",
   "execution_count": 5,
   "metadata": {},
   "outputs": [
    {
     "name": "stdout",
     "output_type": "stream",
     "text": [
      "Shape of the x : (8523, 25)\n",
      "Shape of the y : (8523,)\n",
      "Shape of the x Test : (5681, 25)\n"
     ]
    }
   ],
   "source": [
    "print(\"Shape of the x :\", x.shape)\n",
    "print(\"Shape of the y :\", y.shape)\n",
    "print(\"Shape of the x Test :\", x_test.shape)"
   ]
  },
  {
   "cell_type": "code",
   "execution_count": 6,
   "metadata": {},
   "outputs": [],
   "source": [
    "from sklearn.model_selection import train_test_split\n",
    "x_train, x_valid, y_train, y_valid = train_test_split(x,y, test_size = 0.2, random_state = 0)"
   ]
  },
  {
   "cell_type": "code",
   "execution_count": 7,
   "metadata": {},
   "outputs": [
    {
     "name": "stdout",
     "output_type": "stream",
     "text": [
      "Shape of the x Train : (6818, 25)\n",
      "Shape of the y Train : (6818,)\n",
      "Shape of the x Valid : (1705, 25)\n",
      "Shape of the y Valid : (1705,)\n",
      "Shape of the x Test : (5681, 25)\n"
     ]
    }
   ],
   "source": [
    "# lets print the shapes again \n",
    "print(\"Shape of the x Train :\", x_train.shape)\n",
    "print(\"Shape of the y Train :\", y_train.shape)\n",
    "print(\"Shape of the x Valid :\", x_valid.shape)\n",
    "print(\"Shape of the y Valid :\", y_valid.shape)\n",
    "print(\"Shape of the x Test :\", x_test.shape)"
   ]
  },
  {
   "cell_type": "markdown",
   "metadata": {},
   "source": [
    "# Linear Regression"
   ]
  },
  {
   "cell_type": "code",
   "execution_count": 8,
   "metadata": {},
   "outputs": [],
   "source": [
    "from sklearn.metrics import r2_score,mean_squared_error\n",
    "from math import sqrt"
   ]
  },
  {
   "cell_type": "code",
   "execution_count": 9,
   "metadata": {},
   "outputs": [
    {
     "name": "stdout",
     "output_type": "stream",
     "text": [
      "Score of Training: 56.32787155785124\n",
      "RMSE : 1126.937730271951\n",
      "Score of Testing: 56.391260756719454\n",
      "RMSE : 1129.7639164037737\n"
     ]
    }
   ],
   "source": [
    "from sklearn.linear_model import LinearRegression\n",
    "lr = LinearRegression(n_jobs=1)\n",
    "lr.fit(x_train,y_train)\n",
    "\n",
    "#Predicting the Test set results\n",
    "y_pred_lr = lr.predict(x_train)\n",
    "score = r2_score(y_train,y_pred_lr)\n",
    "print(\"Score of Training:\",100*score)\n",
    "print(\"RMSE :\", np.sqrt(mean_squared_error(y_train,y_pred_lr)))\n",
    "\n",
    "y_test_pred_lr = lr.predict(x_valid)\n",
    "score = r2_score(y_valid,y_test_pred_lr)\n",
    "print(\"Score of Testing:\",100*score)\n",
    "print(\"RMSE :\" , np.sqrt(mean_squared_error(y_valid,y_test_pred_lr)))"
   ]
  },
  {
   "cell_type": "code",
   "execution_count": 10,
   "metadata": {},
   "outputs": [
    {
     "data": {
      "text/plain": [
       "<matplotlib.axes._subplots.AxesSubplot at 0x231042a9508>"
      ]
     },
     "execution_count": 10,
     "metadata": {},
     "output_type": "execute_result"
    },
    {
     "data": {
      "image/png": "[encoded data removed]",
      "text/plain": [
       "<Figure size 432x288 with 1 Axes>"
      ]
     },
     "metadata": {
      "needs_background": "light"
     },
     "output_type": "display_data"
    }
   ],
   "source": [
    "sns.distplot(y_valid-y_test_pred_lr, bins = 25)"
   ]
  },
  {
   "cell_type": "code",
   "execution_count": null,
   "metadata": {},
   "outputs": [],
   "source": []
  }
 ],
 "metadata": {
  "kernelspec": {
   "display_name": "Python 3",
   "language": "python",
   "name": "python3"
  },
  "language_info": {
   "codemirror_mode": {
    "name": "ipython",
    "version": 3
   },
   "file_extension": ".py",
   "mimetype": "text/x-python",
   "name": "python",
   "nbconvert_exporter": "python",
   "pygments_lexer": "ipython3",
   "version": "3.7.6"
  }
 },
 "nbformat": 4,
 "nbformat_minor": 4
}
