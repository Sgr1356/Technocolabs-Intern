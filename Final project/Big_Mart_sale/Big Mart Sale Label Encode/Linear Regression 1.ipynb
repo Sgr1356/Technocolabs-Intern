{
 "cells": [
  {
   "cell_type": "code",
   "execution_count": 13,
   "metadata": {},
   "outputs": [],
   "source": [
    "import pandas as pd\n",
    "import numpy as np\n",
    "import matplotlib.pyplot as plt\n",
    "import seaborn as sns"
   ]
  },
  {
   "cell_type": "code",
   "execution_count": 14,
   "metadata": {},
   "outputs": [],
   "source": [
    "train_df = pd.read_csv('data/train_cleaned.csv')\n",
    "test_df = pd.read_csv('data/test_cleaned.csv')"
   ]
  },
  {
   "cell_type": "code",
   "execution_count": 15,
   "metadata": {},
   "outputs": [
    {
     "name": "stdout",
     "output_type": "stream",
     "text": [
      "<class 'pandas.core.frame.DataFrame'>\n",
      "RangeIndex: 8523 entries, 0 to 8522\n",
      "Data columns (total 10 columns):\n",
      " #   Column                     Non-Null Count  Dtype  \n",
      "---  ------                     --------------  -----  \n",
      " 0   Item_Weight                8523 non-null   float64\n",
      " 1   Item_Fat_Content           8523 non-null   int64  \n",
      " 2   Item_Visibility            8523 non-null   float64\n",
      " 3   Item_MRP                   8523 non-null   float64\n",
      " 4   Outlet_Establishment_Year  8523 non-null   int64  \n",
      " 5   Outlet_Size                8523 non-null   int64  \n",
      " 6   Outlet_Location_Type       8523 non-null   int64  \n",
      " 7   Outlet_Type                8523 non-null   int64  \n",
      " 8   Item_Outlet_Sales          8523 non-null   float64\n",
      " 9   Item_Type_Combined         8523 non-null   int64  \n",
      "dtypes: float64(4), int64(6)\n",
      "memory usage: 666.0 KB\n"
     ]
    }
   ],
   "source": [
    "train_df.info()"
   ]
  },
  {
   "cell_type": "code",
   "execution_count": 16,
   "metadata": {},
   "outputs": [
    {
     "name": "stdout",
     "output_type": "stream",
     "text": [
      "<class 'pandas.core.frame.DataFrame'>\n",
      "RangeIndex: 5681 entries, 0 to 5680\n",
      "Data columns (total 9 columns):\n",
      " #   Column                     Non-Null Count  Dtype  \n",
      "---  ------                     --------------  -----  \n",
      " 0   Item_Weight                5681 non-null   float64\n",
      " 1   Item_Fat_Content           5681 non-null   int64  \n",
      " 2   Item_Visibility            5681 non-null   float64\n",
      " 3   Item_MRP                   5681 non-null   float64\n",
      " 4   Outlet_Establishment_Year  5681 non-null   int64  \n",
      " 5   Outlet_Size                5681 non-null   int64  \n",
      " 6   Outlet_Location_Type       5681 non-null   int64  \n",
      " 7   Outlet_Type                5681 non-null   int64  \n",
      " 8   Item_Type_Combined         5681 non-null   int64  \n",
      "dtypes: float64(3), int64(6)\n",
      "memory usage: 399.6 KB\n"
     ]
    }
   ],
   "source": [
    "test_df.info()"
   ]
  },
  {
   "cell_type": "code",
   "execution_count": 17,
   "metadata": {},
   "outputs": [
    {
     "name": "stdout",
     "output_type": "stream",
     "text": [
      "Shape of the x : (8523, 9)\n",
      "Shape of the y : (8523,)\n",
      "Shape of the test data : (5681, 9)\n"
     ]
    }
   ],
   "source": [
    "# lets split the target data from the train data\n",
    "\n",
    "y = train_df['Item_Outlet_Sales']\n",
    "X = train_df.drop(['Item_Outlet_Sales'], axis = 1)\n",
    "x_test = test_df\n",
    "\n",
    "# lets print the shapes of these newly formed data sets\n",
    "print(\"Shape of the x :\", X.shape)\n",
    "print(\"Shape of the y :\", y.shape)\n",
    "print(\"Shape of the test data :\", x_test.shape)"
   ]
  },
  {
   "cell_type": "code",
   "execution_count": 18,
   "metadata": {},
   "outputs": [],
   "source": [
    "from sklearn.model_selection import train_test_split\n",
    "X_train, X_test, y_train, y_test = train_test_split(X, y, test_size = 0.2, random_state = 42)"
   ]
  },
  {
   "cell_type": "code",
   "execution_count": 19,
   "metadata": {},
   "outputs": [
    {
     "name": "stdout",
     "output_type": "stream",
     "text": [
      "Shape of the X Train : (6818, 9)\n",
      "Shape of the y Train : (6818,)\n",
      "Shape of the X test : (1705, 9)\n",
      "Shape of the y test : (1705,)\n",
      "Shape of the test data : (5681, 9)\n"
     ]
    }
   ],
   "source": [
    "# lets print the shapes again \n",
    "print(\"Shape of the X Train :\", X_train.shape)\n",
    "print(\"Shape of the y Train :\", y_train.shape)\n",
    "print(\"Shape of the X test :\", X_test.shape)\n",
    "print(\"Shape of the y test :\", y_test.shape)\n",
    "print(\"Shape of the test data :\", x_test.shape)"
   ]
  },
  {
   "cell_type": "code",
   "execution_count": 20,
   "metadata": {},
   "outputs": [],
   "source": [
    "from sklearn.metrics import  r2_score,mean_squared_error\n",
    "from math import sqrt"
   ]
  },
  {
   "cell_type": "code",
   "execution_count": 21,
   "metadata": {},
   "outputs": [
    {
     "name": "stdout",
     "output_type": "stream",
     "text": [
      "Score of Training: 36.07654777886642\n",
      "RMSE : 1375.0955709405644\n",
      "Score of Testing: 35.817295123540404\n",
      "RMSE : 1320.782611366126\n"
     ]
    }
   ],
   "source": [
    "from sklearn.linear_model import LinearRegression\n",
    "lr = LinearRegression(n_jobs=1)\n",
    "lr.fit(X_train,y_train)\n",
    "\n",
    "#Predicting the Test set results\n",
    "y_pred_lr = lr.predict(X_train)\n",
    "score_lr = r2_score(y_train,y_pred_lr)\n",
    "print(\"Score of Training:\",100*score_lr)\n",
    "print(\"RMSE :\", np.sqrt(mean_squared_error(y_train,y_pred_lr)))\n",
    "\n",
    "y_test_pred_lr = lr.predict(X_test)\n",
    "score = r2_score(y_test,y_test_pred_lr)\n",
    "print(\"Score of Testing:\",100*score)\n",
    "print(\"RMSE :\" , np.sqrt(mean_squared_error(y_test,y_test_pred_lr)))"
   ]
  },
  {
   "cell_type": "code",
   "execution_count": 22,
   "metadata": {},
   "outputs": [
    {
     "data": {
      "text/html": [
       "<div>\n",
       "<style scoped>\n",
       "    .dataframe tbody tr th:only-of-type {\n",
       "        vertical-align: middle;\n",
       "    }\n",
       "\n",
       "    .dataframe tbody tr th {\n",
       "        vertical-align: top;\n",
       "    }\n",
       "\n",
       "    .dataframe thead th {\n",
       "        text-align: right;\n",
       "    }\n",
       "</style>\n",
       "<table border=\"1\" class=\"dataframe\">\n",
       "  <thead>\n",
       "    <tr style=\"text-align: right;\">\n",
       "      <th></th>\n",
       "      <th>actualpredict</th>\n",
       "      <th>machinepredict</th>\n",
       "    </tr>\n",
       "  </thead>\n",
       "  <tbody>\n",
       "    <tr>\n",
       "      <th>0</th>\n",
       "      <td>1743.0644</td>\n",
       "      <td>1590.111193</td>\n",
       "    </tr>\n",
       "    <tr>\n",
       "      <th>1</th>\n",
       "      <td>356.8688</td>\n",
       "      <td>294.150620</td>\n",
       "    </tr>\n",
       "    <tr>\n",
       "      <th>2</th>\n",
       "      <td>377.5086</td>\n",
       "      <td>736.494353</td>\n",
       "    </tr>\n",
       "    <tr>\n",
       "      <th>3</th>\n",
       "      <td>5778.4782</td>\n",
       "      <td>3228.499222</td>\n",
       "    </tr>\n",
       "    <tr>\n",
       "      <th>4</th>\n",
       "      <td>2356.9320</td>\n",
       "      <td>3155.579305</td>\n",
       "    </tr>\n",
       "    <tr>\n",
       "      <th>...</th>\n",
       "      <td>...</td>\n",
       "      <td>...</td>\n",
       "    </tr>\n",
       "    <tr>\n",
       "      <th>1700</th>\n",
       "      <td>3004.0896</td>\n",
       "      <td>1542.575351</td>\n",
       "    </tr>\n",
       "    <tr>\n",
       "      <th>1701</th>\n",
       "      <td>890.8404</td>\n",
       "      <td>2126.051872</td>\n",
       "    </tr>\n",
       "    <tr>\n",
       "      <th>1702</th>\n",
       "      <td>629.1810</td>\n",
       "      <td>928.583610</td>\n",
       "    </tr>\n",
       "    <tr>\n",
       "      <th>1703</th>\n",
       "      <td>253.0040</td>\n",
       "      <td>239.353635</td>\n",
       "    </tr>\n",
       "    <tr>\n",
       "      <th>1704</th>\n",
       "      <td>976.7286</td>\n",
       "      <td>1943.767970</td>\n",
       "    </tr>\n",
       "  </tbody>\n",
       "</table>\n",
       "<p>1705 rows × 2 columns</p>\n",
       "</div>"
      ],
      "text/plain": [
       "      actualpredict  machinepredict\n",
       "0         1743.0644     1590.111193\n",
       "1          356.8688      294.150620\n",
       "2          377.5086      736.494353\n",
       "3         5778.4782     3228.499222\n",
       "4         2356.9320     3155.579305\n",
       "...             ...             ...\n",
       "1700      3004.0896     1542.575351\n",
       "1701       890.8404     2126.051872\n",
       "1702       629.1810      928.583610\n",
       "1703       253.0040      239.353635\n",
       "1704       976.7286     1943.767970\n",
       "\n",
       "[1705 rows x 2 columns]"
      ]
     },
     "execution_count": 22,
     "metadata": {},
     "output_type": "execute_result"
    }
   ],
   "source": [
    "pd.DataFrame(np.c_[y_test,y_test_pred_lr], columns = [\"actualpredict\",\"machinepredict\"])"
   ]
  },
  {
   "cell_type": "code",
   "execution_count": null,
   "metadata": {},
   "outputs": [],
   "source": []
  }
 ],
 "metadata": {
  "kernelspec": {
   "display_name": "Python 3",
   "language": "python",
   "name": "python3"
  },
  "language_info": {
   "codemirror_mode": {
    "name": "ipython",
    "version": 3
   },
   "file_extension": ".py",
   "mimetype": "text/x-python",
   "name": "python",
   "nbconvert_exporter": "python",
   "pygments_lexer": "ipython3",
   "version": "3.7.6"
  }
 },
 "nbformat": 4,
 "nbformat_minor": 4
}
